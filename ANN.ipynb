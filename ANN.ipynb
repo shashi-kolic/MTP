{
 "cells": [
  {
   "cell_type": "code",
   "execution_count": 1,
   "id": "a589a15f-3bc1-4476-9c02-d9fb95fdc716",
   "metadata": {},
   "outputs": [],
   "source": [
    "import numpy as np\n",
    "import pandas as pd\n",
    "import matplotlib.pyplot as plt\n",
    "#import tensorflow as tf\n",
    "\n",
    "\n",
    "from sklearn.linear_model  import LinearRegression\n",
    "from sklearn.svm import SVR\n",
    "\n",
    "\n",
    "from sklearn.preprocessing import MinMaxScaler\n",
    "from sklearn.preprocessing import StandardScaler, PowerTransformer, QuantileTransformer\n",
    "from sklearn.model_selection import train_test_split\n",
    "from sklearn.metrics import mean_squared_error as mse\n",
    "from sklearn.metrics import r2_score as r2\n",
    "from sklearn.impute import SimpleImputer\n",
    "import seaborn as sns\n",
    "from sklearn.model_selection import GridSearchCV\n",
    "\n",
    "from sklearn.neural_network import MLPRegressor\n",
    "from sklearn.model_selection import KFold\n",
    "from sklearn.metrics import make_scorer\n",
    "\n",
    "\n",
    "from sklearn.impute import SimpleImputer\n",
    "from sklearn.model_selection import GridSearchCV,RandomizedSearchCV\n",
    "from sklearn.model_selection import cross_val_predict,RandomizedSearchCV,validation_curve\n",
    "from sklearn.model_selection import KFold\n",
    "from sklearn.model_selection import cross_val_score\n",
    "from sklearn.metrics import make_scorer\n",
    "#from skopt import BayesSearchCV\n",
    "\n",
    "from hyperopt import hp, fmin, tpe, STATUS_OK, Trials,rand\n",
    "from hyperopt.pyll.base import scope \n",
    "\n",
    "def mae(y_orig,y_pred):\n",
    "    abs_error = abs(y_orig-y_pred)\n",
    "    return (np.mean(abs_error) / np.mean(y_orig))*100\n",
    "def rmse(y_true,y_pred):\n",
    "    return (mse(y_true,y_pred))**0.5\n",
    "from sklearn.model_selection import cross_validate\n",
    "\n",
    "import warnings\n",
    "warnings.simplefilter(\"ignore\")\n",
    "\n",
    "\n",
    "\n"
   ]
  },
  {
   "cell_type": "code",
   "execution_count": 2,
   "id": "12be022a-89a3-47fa-b619-1a5be0a880c1",
   "metadata": {},
   "outputs": [],
   "source": [
    "df = pd.read_excel('DATA.xlsx',dtype=np.longfloat)\n",
    "imputer = SimpleImputer(missing_values = np.nan, strategy ='mean')\n",
    "df = imputer.fit_transform(df)\n",
    "X = df[:,:-1]\n",
    "y = df[:,9]\n",
    "\n",
    "X_train,X_test,y_train,y_test = train_test_split(X,y,test_size=0.10,random_state=22)\n",
    "X_train,X_val,y_train,y_val = train_test_split(X_train,y_train,test_size=0.10,random_state=22)\n",
    "\n",
    "scaler = StandardScaler()\n",
    "X_train_sca = scaler.fit_transform(X_train)\n",
    "X_val_sca = scaler.transform(X_val)\n",
    "X_test_sca = scaler.transform(X_test)\n"
   ]
  },
  {
   "cell_type": "code",
   "execution_count": 3,
   "id": "317599a7-46ee-4ab5-a85f-628721d2a8a9",
   "metadata": {},
   "outputs": [
    {
     "name": "stdout",
     "output_type": "stream",
     "text": [
      "Size of Training =  (11241,)\n",
      "Size of Validation (1250,)\n",
      "Size of Testing (1388,)\n"
     ]
    }
   ],
   "source": [
    "print(\"Size of Training = \",y_train.shape)\n",
    "print(\"Size of Validation\",y_val.shape)\n",
    "print(\"Size of Testing\",y_test.shape)"
   ]
  },
  {
   "cell_type": "markdown",
   "id": "44a46060-b0f5-46d2-aa2d-619daf745c98",
   "metadata": {},
   "source": [
    "# 1 Layer"
   ]
  },
  {
   "cell_type": "code",
   "execution_count": 9,
   "id": "1512a9f9-f9da-4cae-a8e0-6b2c01c00374",
   "metadata": {},
   "outputs": [
    {
     "name": "stdout",
     "output_type": "stream",
     "text": [
      "Initial Model\n",
      "---------------------------------------------\n",
      "Training Score\n",
      "R2 ->  0.7878784486781749\n",
      "MSE ->  2.3686082309479577\n",
      "RMSE ->  1.5390283398781055\n",
      "MAE ->  13.021677836542933\n",
      "---------------------------------------------\n",
      "Validation Score\n",
      "R2 ->  0.7764693263413412\n",
      "MSE ->  2.5678811857825985\n",
      "RMSE ->  1.6024609779281986\n",
      "MAE ->  13.869779672161595\n",
      "---------------------------------------------\n",
      "Test Score\n",
      "R2 ->  0.7530884354963583\n",
      "MSE ->  2.5521095311265745\n",
      "RMSE ->  1.5975323255341578\n",
      "MAE ->  13.344508709948594\n"
     ]
    }
   ],
   "source": [
    "arr = ([10,10,10,10,10])\n",
    "model = MLPRegressor(hidden_layer_sizes=arr,shuffle=True,random_state=22)\n",
    "\n",
    "\n",
    "model.fit(X_train_sca,y_train)\n",
    "print(\"Initial Model\")\n",
    "\n",
    "print(\"---------------------------------------------\")\n",
    "print(\"Training Score\")\n",
    "print(\"R2 -> \",r2(y_train,model.predict(X_train_sca)))\n",
    "print(\"MSE -> \",mse(y_train,model.predict(X_train_sca)))\n",
    "print(\"RMSE -> \",rmse(y_train,model.predict(X_train_sca)))\n",
    "print(\"MAE -> \",mae(y_train,model.predict(X_train_sca)))\n",
    "\n",
    "\n",
    "print(\"---------------------------------------------\")\n",
    "print(\"Validation Score\")\n",
    "print(\"R2 -> \",r2(y_val,model.predict(X_val_sca)))\n",
    "print(\"MSE -> \",mse(y_val,model.predict(X_val_sca)))\n",
    "print(\"RMSE -> \",rmse(y_val,model.predict(X_val_sca)))\n",
    "print(\"MAE -> \",mae(y_val,model.predict(X_val_sca)))\n",
    "\n",
    "\n",
    "print(\"---------------------------------------------\")\n",
    "print(\"Test Score\")\n",
    "print(\"R2 -> \",r2(y_test,model.predict(X_test_sca)))\n",
    "print(\"MSE -> \",mse(y_test,model.predict(X_test_sca)))\n",
    "print(\"RMSE -> \",rmse(y_test,model.predict(X_test_sca)))\n",
    "print(\"MAE -> \",mae(y_test,model.predict(X_test_sca)))"
   ]
  },
  {
   "cell_type": "code",
   "execution_count": 26,
   "id": "0c9fe924-1be8-498b-8e80-136bf331d64d",
   "metadata": {},
   "outputs": [],
   "source": [
    "train = np.zeros(50)\n",
    "val = np.zeros(50)\n",
    "test = np.zeros(50)"
   ]
  },
  {
   "cell_type": "code",
   "execution_count": 28,
   "id": "56d92650-0816-40a1-a79e-89f2b0f25cdb",
   "metadata": {},
   "outputs": [],
   "source": [
    "for i in range(1,51):\n",
    "    arr = ([i])\n",
    "    model = MLPRegressor(hidden_layer_sizes=arr,shuffle=True,random_state=22)\n",
    "    model.fit(X_train_sca,y_train)\n",
    "    train[i-1] = r2(y_train,model.predict(X_train_sca))\n",
    "    val[i-1] = r2(y_val,model.predict(X_val_sca))\n",
    "    test[i-1] = r2(y_test,model.predict(X_test_sca))\n",
    "\n",
    "\n"
   ]
  },
  {
   "cell_type": "code",
   "execution_count": 37,
   "id": "5ff21da3-0afd-4ac6-9625-2b1799accde7",
   "metadata": {},
   "outputs": [
    {
     "data": {
      "image/png": "[encoded data removed]",
      "text/plain": [
       "<Figure size 1080x576 with 1 Axes>"
      ]
     },
     "metadata": {
      "needs_background": "light"
     },
     "output_type": "display_data"
    }
   ],
   "source": [
    "plt.figure(figsize=(15,8))\n",
    "plt.plot(train,label = \"Train\")\n",
    "plt.plot(val,label = \"Validation\")\n",
    "plt.plot(test,label = \"Test\")\n",
    "plt.legend()\n",
    "plt.show()"
   ]
  },
  {
   "cell_type": "code",
   "execution_count": 40,
   "id": "0842a121-765e-4535-92a1-33311404180a",
   "metadata": {},
   "outputs": [
    {
     "name": "stdout",
     "output_type": "stream",
     "text": [
      "100%|██████████| 100/100 [45:10<00:00, 27.11s/trial, best loss: 2.2863497484353412]\n"
     ]
    },
    {
     "data": {
      "text/plain": [
       "{'a': 100.0,\n",
       " 'activation': 3,\n",
       " 'beta_1': 0.585966932155465,\n",
       " 'beta_2': 0.5933895789649293}"
      ]
     },
     "execution_count": 40,
     "metadata": {},
     "output_type": "execute_result"
    }
   ],
   "source": [
    "n_evals = 100\n",
    "space = {'a': scope.int (hp.quniform('a', 5,100,5)),\n",
    "         #'b': scope.int (hp.quniform('b', 5,100,10)),\n",
    "         #'c': scope.int (hp.quniform('c', 5,100,10)),\n",
    "         #'d': scope.int (hp.quniform('d', 5,100,10)),\n",
    "         #'e': scope.int (hp.quniform('e', 5,100,10)),\n",
    "         'activation': hp.choice('activation',['relu','logistic','identity','tanh']),\n",
    "         #'batch_size': hp.choice ('batch_size', [16,32,64,128]),\n",
    "         #'max_iter' : hp.choice('max_iter', [500,600]),\n",
    "         'beta_1':hp.uniform('beta_1',0.0001,0.99999),\n",
    "         'beta_2':hp.uniform('beta_2',0.0001,0.99999),\n",
    "         #'learning_rate_init':hp.choice('learning_rate_init',[0.001,0.01,0.1,0.2])\n",
    "         \n",
    "         \n",
    "    }\n",
    "def objective(space):\n",
    "    \n",
    "    arr = ([space['a']])\n",
    "    \n",
    "    model = MLPRegressor(hidden_layer_sizes=arr,activation=space['activation'],batch_size=128,max_iter=600,\n",
    "                         solver='adam',\n",
    "                        beta_1=space['beta_1'],beta_2=space['beta_2'],shuffle=True,random_state=22)\n",
    "    \n",
    "    model.fit(X_train_sca,y_train)\n",
    "    y_val_pred = model.predict(X_val_sca)\n",
    "    MSE = mse(y_val,y_val_pred)\n",
    "\n",
    "    # We aim to maximize accuracy, therefore we return it as a negative value\n",
    "    return {'loss': MSE, 'status': STATUS_OK }\n",
    "    \n",
    "trials = Trials()\n",
    "best = fmin(fn= objective,\n",
    "            space= space,\n",
    "            algo= tpe.suggest,\n",
    "            trials= trials,\n",
    "               max_evals=n_evals)\n",
    "best"
   ]
  },
  {
   "cell_type": "code",
   "execution_count": 42,
   "id": "0cb2bf8c-01ab-47e5-bc11-55fb393a111d",
   "metadata": {},
   "outputs": [
    {
     "name": "stdout",
     "output_type": "stream",
     "text": [
      "1 Layer Model\n",
      "---------------------------------------------\n",
      "Training Score\n",
      "R2 ->  0.8156501011748145\n",
      "MSE ->  2.0585022361508187\n",
      "RMSE ->  1.4347481438046257\n",
      "MAE ->  12.064125183770544\n",
      "---------------------------------------------\n",
      "Validation Score\n",
      "R2 ->  0.8009762670030618\n",
      "MSE ->  2.2863497484353412\n",
      "RMSE ->  1.5120680369729866\n",
      "MAE ->  12.950049836097177\n",
      "---------------------------------------------\n",
      "Test Score\n",
      "R2 ->  0.7678734959127491\n",
      "MSE ->  2.3992892544303133\n",
      "RMSE ->  1.548963929350943\n",
      "MAE ->  13.182836123745489\n"
     ]
    }
   ],
   "source": [
    "arr = ([100])\n",
    "beta_1 = 0.585966932155465\n",
    "beta_2 = 0.5933895789649293\n",
    "activation='tanh'\n",
    "batch_size = 128\n",
    "max_iter = 600\n",
    "\n",
    "\n",
    "model = MLPRegressor(hidden_layer_sizes=arr,activation=activation,batch_size=batch_size,max_iter=max_iter,solver='adam',\n",
    "                         beta_1=beta_1,beta_2=beta_2,shuffle=True,random_state=22)\n",
    "\n",
    "\n",
    "model.fit(X_train_sca,y_train)\n",
    "\n",
    "print(\"1 Layer Model\")\n",
    "\n",
    "print(\"---------------------------------------------\")\n",
    "print(\"Training Score\")\n",
    "print(\"R2 -> \",r2(y_train,model.predict(X_train_sca)))\n",
    "print(\"MSE -> \",mse(y_train,model.predict(X_train_sca)))\n",
    "print(\"RMSE -> \",rmse(y_train,model.predict(X_train_sca)))\n",
    "print(\"MAE -> \",mae(y_train,model.predict(X_train_sca)))\n",
    "\n",
    "\n",
    "print(\"---------------------------------------------\")\n",
    "print(\"Validation Score\")\n",
    "print(\"R2 -> \",r2(y_val,model.predict(X_val_sca)))\n",
    "print(\"MSE -> \",mse(y_val,model.predict(X_val_sca)))\n",
    "print(\"RMSE -> \",rmse(y_val,model.predict(X_val_sca)))\n",
    "print(\"MAE -> \",mae(y_val,model.predict(X_val_sca)))\n",
    "\n",
    "\n",
    "print(\"---------------------------------------------\")\n",
    "print(\"Test Score\")\n",
    "print(\"R2 -> \",r2(y_test,model.predict(X_test_sca)))\n",
    "print(\"MSE -> \",mse(y_test,model.predict(X_test_sca)))\n",
    "print(\"RMSE -> \",rmse(y_test,model.predict(X_test_sca)))\n",
    "print(\"MAE -> \",mae(y_test,model.predict(X_test_sca)))\n"
   ]
  },
  {
   "cell_type": "markdown",
   "id": "6a7e830f-3be7-4557-b48e-82047db3b5ca",
   "metadata": {},
   "source": [
    "# 2 Layers"
   ]
  },
  {
   "cell_type": "code",
   "execution_count": 11,
   "id": "b4e59d58-e5f8-4d17-bbbf-87ceb3116421",
   "metadata": {},
   "outputs": [
    {
     "name": "stdout",
     "output_type": "stream",
     "text": [
      "100%|██████████| 70/70 [24:52<00:00, 21.32s/trial, best loss: 1.9479621194257726]\n"
     ]
    },
    {
     "data": {
      "text/plain": [
       "{'a': 65.0,\n",
       " 'activation': 3,\n",
       " 'alpha': 0.1068575068944329,\n",
       " 'b': 45.0,\n",
       " 'beta_1': 0.7129220114520691,\n",
       " 'beta_2': 0.2750840525880057}"
      ]
     },
     "execution_count": 11,
     "metadata": {},
     "output_type": "execute_result"
    }
   ],
   "source": [
    "n_evals = 70\n",
    "space = {'a': scope.int (hp.quniform('a', 5,100,5)),\n",
    "         'b': scope.int (hp.quniform('b', 5,100,5)),\n",
    "         #'c': scope.int (hp.quniform('c', 5,100,5)),\n",
    "         #'d': scope.int (hp.quniform('d', 5,100,10)),\n",
    "         #'e': scope.int (hp.quniform('e', 5,100,10)),\n",
    "         'activation': hp.choice('activation',['relu','logistic','identity','tanh']),\n",
    "         #'batch_size': hp.choice ('batch_size', [16,32,64,128]),\n",
    "         #'max_iter' : hp.choice('max_iter', [500,600]),\n",
    "         'beta_1':hp.uniform('beta_1',0.0001,0.99999),\n",
    "         'beta_2':hp.uniform('beta_2',0.0001,0.99999),\n",
    "         'alpha':hp.uniform('alpha',0.0001,0.99999),\n",
    "         #'learning_rate_init':hp.choice('learning_rate_init',[0.001,0.01,0.1,0.2])\n",
    "         \n",
    "         \n",
    "    }\n",
    "def objective(space):\n",
    "    \n",
    "    arr = ([space['a'],space['b']])\n",
    "    \n",
    "    model = MLPRegressor(hidden_layer_sizes=arr,activation=space['activation'],batch_size=128,max_iter=600,\n",
    "                         solver='adam',\n",
    "                        beta_1=space['beta_1'],beta_2=space['beta_2'],shuffle=True,random_state=22,alpha=space['alpha'])\n",
    "    \n",
    "    model.fit(X_train_sca,y_train)\n",
    "    y_val_pred = model.predict(X_val_sca)\n",
    "    MSE = mse(y_val,y_val_pred)\n",
    "\n",
    "    # We aim to maximize accuracy, therefore we return it as a negative value\n",
    "    return {'loss': MSE, 'status': STATUS_OK }\n",
    "    \n",
    "trials = Trials()\n",
    "best = fmin(fn= objective,\n",
    "            space= space,\n",
    "            algo= tpe.suggest,\n",
    "            trials= trials,\n",
    "               max_evals=n_evals)\n",
    "best"
   ]
  },
  {
   "cell_type": "code",
   "execution_count": 15,
   "id": "359b2caf-9eda-4487-a213-2f8335cd97d0",
   "metadata": {},
   "outputs": [
    {
     "name": "stdout",
     "output_type": "stream",
     "text": [
      "2 Layer Model\n",
      "---------------------------------------------\n",
      "Training Score\n",
      "R2 ->  0.8585393340036516\n",
      "MSE ->  1.5795891353160036\n",
      "RMSE ->  1.2568170651753594\n",
      "MAE ->  10.573846170404515\n",
      "---------------------------------------------\n",
      "Validation Score\n",
      "R2 ->  0.8306104013867224\n",
      "MSE ->  1.9459180085974404\n",
      "RMSE ->  1.3949616512999345\n",
      "MAE ->  12.02332828052591\n",
      "---------------------------------------------\n",
      "Test Score\n",
      "R2 ->  0.8089589615043304\n",
      "MSE ->  1.974624623845539\n",
      "RMSE ->  1.4052133730667165\n",
      "MAE ->  11.821638684450349\n"
     ]
    }
   ],
   "source": [
    "arr = ([65,45])\n",
    "beta_1 = 0.7129\n",
    "beta_2 = 0.275\n",
    "activation='tanh'\n",
    "batch_size = 128\n",
    "max_iter = 600\n",
    "alpha = 0.106\n",
    "\n",
    "\n",
    "model = MLPRegressor(hidden_layer_sizes=arr,activation=activation,batch_size=batch_size,max_iter=max_iter,solver='adam',\n",
    "                         beta_1=beta_1,beta_2=beta_2,shuffle=True,random_state=22,alpha=alpha)\n",
    "\n",
    "\n",
    "model.fit(X_train_sca,y_train)\n",
    "\n",
    "print(\"2 Layer Model\")\n",
    "\n",
    "print(\"---------------------------------------------\")\n",
    "print(\"Training Score\")\n",
    "print(\"R2 -> \",r2(y_train,model.predict(X_train_sca)))\n",
    "print(\"MSE -> \",mse(y_train,model.predict(X_train_sca)))\n",
    "print(\"RMSE -> \",rmse(y_train,model.predict(X_train_sca)))\n",
    "print(\"MAE -> \",mae(y_train,model.predict(X_train_sca)))\n",
    "\n",
    "\n",
    "print(\"---------------------------------------------\")\n",
    "print(\"Validation Score\")\n",
    "print(\"R2 -> \",r2(y_val,model.predict(X_val_sca)))\n",
    "print(\"MSE -> \",mse(y_val,model.predict(X_val_sca)))\n",
    "print(\"RMSE -> \",rmse(y_val,model.predict(X_val_sca)))\n",
    "print(\"MAE -> \",mae(y_val,model.predict(X_val_sca)))\n",
    "\n",
    "\n",
    "print(\"---------------------------------------------\")\n",
    "print(\"Test Score\")\n",
    "print(\"R2 -> \",r2(y_test,model.predict(X_test_sca)))\n",
    "print(\"MSE -> \",mse(y_test,model.predict(X_test_sca)))\n",
    "print(\"RMSE -> \",rmse(y_test,model.predict(X_test_sca)))\n",
    "print(\"MAE -> \",mae(y_test,model.predict(X_test_sca)))\n"
   ]
  },
  {
   "cell_type": "markdown",
   "id": "a9cc6b1e-7d26-45d9-ac0a-e765084496b0",
   "metadata": {},
   "source": [
    "# 3 Layers"
   ]
  },
  {
   "cell_type": "code",
   "execution_count": 13,
   "id": "f2cdc938-11e4-461a-89d3-0a1f04f50bea",
   "metadata": {},
   "outputs": [
    {
     "name": "stdout",
     "output_type": "stream",
     "text": [
      "100%|██████████| 70/70 [42:34<00:00, 36.50s/trial, best loss: 1.6037923206630467]\n"
     ]
    },
    {
     "data": {
      "text/plain": [
       "{'a': 70.0,\n",
       " 'activation': 3,\n",
       " 'alpha': 0.034429101174577384,\n",
       " 'b': 80.0,\n",
       " 'beta_1': 0.6482935693860953,\n",
       " 'beta_2': 0.9941277670207687,\n",
       " 'c': 55.0}"
      ]
     },
     "execution_count": 13,
     "metadata": {},
     "output_type": "execute_result"
    }
   ],
   "source": [
    "n_evals = 70\n",
    "space = {'a': scope.int (hp.quniform('a', 5,100,5)),\n",
    "         'b': scope.int (hp.quniform('b', 5,100,5)),\n",
    "         'c': scope.int (hp.quniform('c', 5,100,5)),\n",
    "         #'d': scope.int (hp.quniform('d', 5,100,10)),\n",
    "         #'e': scope.int (hp.quniform('e', 5,100,10)),\n",
    "         'activation': hp.choice('activation',['relu','logistic','identity','tanh']),\n",
    "         #'batch_size': hp.choice ('batch_size', [16,32,64,128]),\n",
    "         #'max_iter' : hp.choice('max_iter', [500,600]),\n",
    "         'beta_1':hp.uniform('beta_1',0.0001,0.99999),\n",
    "         'beta_2':hp.uniform('beta_2',0.0001,0.99999),\n",
    "         'alpha':hp.uniform('alpha',0.0001,0.99999),\n",
    "         #'learning_rate_init':hp.choice('learning_rate_init',[0.001,0.01,0.1,0.2])\n",
    "         \n",
    "         \n",
    "    }\n",
    "def objective(space):\n",
    "    \n",
    "    arr = ([space['a'],space['b'],space['c']])\n",
    "    \n",
    "    model = MLPRegressor(hidden_layer_sizes=arr,activation=space['activation'],batch_size=128,max_iter=600,\n",
    "                         solver='adam',\n",
    "                        beta_1=space['beta_1'],beta_2=space['beta_2'],shuffle=True,random_state=22,alpha=space['alpha'])\n",
    "    \n",
    "    model.fit(X_train_sca,y_train)\n",
    "    y_val_pred = model.predict(X_val_sca)\n",
    "    MSE = mse(y_val,y_val_pred)\n",
    "\n",
    "    # We aim to maximize accuracy, therefore we return it as a negative value\n",
    "    return {'loss': MSE, 'status': STATUS_OK }\n",
    "    \n",
    "trials = Trials()\n",
    "best = fmin(fn= objective,\n",
    "            space= space,\n",
    "            algo= tpe.suggest,\n",
    "            trials= trials,\n",
    "               max_evals=n_evals)\n",
    "best"
   ]
  },
  {
   "cell_type": "code",
   "execution_count": 19,
   "id": "1e20e277-9898-4b22-a798-77bbab36e014",
   "metadata": {},
   "outputs": [
    {
     "name": "stdout",
     "output_type": "stream",
     "text": [
      "3 Layer Model\n",
      "---------------------------------------------\n",
      "Training Score\n",
      "R2 ->  0.8163130639867242\n",
      "MSE ->  2.051099409029687\n",
      "RMSE ->  1.4321659851531479\n",
      "MAE ->  11.96995081613921\n",
      "---------------------------------------------\n",
      "Validation Score\n",
      "R2 ->  0.8065328666201645\n",
      "MSE ->  2.2225165063118295\n",
      "RMSE ->  1.4908106876165832\n",
      "MAE ->  12.587906750123635\n",
      "---------------------------------------------\n",
      "Test Score\n",
      "R2 ->  0.7863016623419834\n",
      "MSE ->  2.208813367730637\n",
      "RMSE ->  1.4862077135214435\n",
      "MAE ->  12.62496018954563\n"
     ]
    }
   ],
   "source": [
    "arr = ([70,80,55])\n",
    "beta_1 = 0.6482\n",
    "beta_2 = 0.994\n",
    "activation='tanh'\n",
    "batch_size = 128\n",
    "max_iter = 600\n",
    "alpha = 0.5\n",
    "\n",
    "\n",
    "model = MLPRegressor(hidden_layer_sizes=arr,activation=activation,batch_size=batch_size,max_iter=max_iter,solver='adam',\n",
    "                         beta_1=beta_1,beta_2=beta_2,shuffle=True,random_state=22,alpha=alpha)\n",
    "\n",
    "\n",
    "model.fit(X_train_sca,y_train)\n",
    "\n",
    "print(\"3 Layer Model\")\n",
    "\n",
    "print(\"---------------------------------------------\")\n",
    "print(\"Training Score\")\n",
    "print(\"R2 -> \",r2(y_train,model.predict(X_train_sca)))\n",
    "print(\"MSE -> \",mse(y_train,model.predict(X_train_sca)))\n",
    "print(\"RMSE -> \",rmse(y_train,model.predict(X_train_sca)))\n",
    "print(\"MAE -> \",mae(y_train,model.predict(X_train_sca)))\n",
    "\n",
    "\n",
    "print(\"---------------------------------------------\")\n",
    "print(\"Validation Score\")\n",
    "print(\"R2 -> \",r2(y_val,model.predict(X_val_sca)))\n",
    "print(\"MSE -> \",mse(y_val,model.predict(X_val_sca)))\n",
    "print(\"RMSE -> \",rmse(y_val,model.predict(X_val_sca)))\n",
    "print(\"MAE -> \",mae(y_val,model.predict(X_val_sca)))\n",
    "\n",
    "\n",
    "print(\"---------------------------------------------\")\n",
    "print(\"Test Score\")\n",
    "print(\"R2 -> \",r2(y_test,model.predict(X_test_sca)))\n",
    "print(\"MSE -> \",mse(y_test,model.predict(X_test_sca)))\n",
    "print(\"RMSE -> \",rmse(y_test,model.predict(X_test_sca)))\n",
    "print(\"MAE -> \",mae(y_test,model.predict(X_test_sca)))\n"
   ]
  },
  {
   "cell_type": "markdown",
   "id": "9b9a66d3-3cbd-4a30-b5b1-045fe19d6c3e",
   "metadata": {},
   "source": [
    "# 4 Layers"
   ]
  },
  {
   "cell_type": "code",
   "execution_count": 12,
   "id": "6fddca3e-798a-4f26-9bc3-2d73655b5e2f",
   "metadata": {},
   "outputs": [
    {
     "name": "stdout",
     "output_type": "stream",
     "text": [
      "100%|██████████| 70/70 [52:47<00:00, 45.25s/trial, best loss: 1.43620292811289]  \n"
     ]
    },
    {
     "data": {
      "text/plain": [
       "{'a': 100.0,\n",
       " 'activation': 3,\n",
       " 'alpha': 0.060062422128752034,\n",
       " 'b': 90.0,\n",
       " 'beta_1': 0.29403499676898914,\n",
       " 'beta_2': 0.28004717160632686,\n",
       " 'c': 75.0,\n",
       " 'd': 30.0}"
      ]
     },
     "execution_count": 12,
     "metadata": {},
     "output_type": "execute_result"
    }
   ],
   "source": [
    "n_evals = 70\n",
    "space = {'a': scope.int (hp.quniform('a', 5,100,5)),\n",
    "         'b': scope.int (hp.quniform('b', 5,100,5)),\n",
    "         'c': scope.int (hp.quniform('c', 5,100,5)),\n",
    "         'd': scope.int (hp.quniform('d', 5,100,10)),\n",
    "         #'e': scope.int (hp.quniform('e', 5,100,10)),\n",
    "         'activation': hp.choice('activation',['relu','logistic','identity','tanh']),\n",
    "         #'batch_size': hp.choice ('batch_size', [16,32,64,128]),\n",
    "         #'max_iter' : hp.choice('max_iter', [500,600]),\n",
    "         'beta_1':hp.uniform('beta_1',0.0001,0.99999),\n",
    "         'beta_2':hp.uniform('beta_2',0.0001,0.99999),\n",
    "         'alpha':hp.uniform('alpha',0.0001,0.99999),\n",
    "         #'learning_rate_init':hp.choice('learning_rate_init',[0.001,0.01,0.1,0.2])\n",
    "         \n",
    "         \n",
    "    }\n",
    "def objective(space):\n",
    "    \n",
    "    arr = ([space['a'],space['b'],space['c'],space['d']])\n",
    "    \n",
    "    model = MLPRegressor(hidden_layer_sizes=arr,activation=space['activation'],batch_size=128,max_iter=600,\n",
    "                         solver='adam',\n",
    "                        beta_1=space['beta_1'],beta_2=space['beta_2'],shuffle=True,random_state=22,alpha=space['alpha'])\n",
    "    \n",
    "    model.fit(X_train_sca,y_train)\n",
    "    y_val_pred = model.predict(X_val_sca)\n",
    "    MSE = mse(y_val,y_val_pred)\n",
    "\n",
    "    # We aim to maximize accuracy, therefore we return it as a negative value\n",
    "    return {'loss': MSE, 'status': STATUS_OK }\n",
    "    \n",
    "trials = Trials()\n",
    "best = fmin(fn= objective,\n",
    "            space= space,\n",
    "            algo= tpe.suggest,\n",
    "            trials= trials,\n",
    "               max_evals=n_evals)\n",
    "best"
   ]
  },
  {
   "cell_type": "code",
   "execution_count": 18,
   "id": "63d37c0e-8ffd-4376-8c13-862de7c9ab48",
   "metadata": {},
   "outputs": [
    {
     "name": "stdout",
     "output_type": "stream",
     "text": [
      "4 Layer Model\n",
      "---------------------------------------------\n",
      "Training Score\n",
      "R2 ->  0.8334923285195583\n",
      "MSE ->  1.8592709638738807\n",
      "RMSE ->  1.3635508658916544\n",
      "MAE ->  11.393395589262992\n",
      "---------------------------------------------\n",
      "Validation Score\n",
      "R2 ->  0.8097642344574747\n",
      "MSE ->  2.1853951191753023\n",
      "RMSE ->  1.4783081949225954\n",
      "MAE ->  12.13501890323854\n",
      "---------------------------------------------\n",
      "Test Score\n",
      "R2 ->  0.8046642170625475\n",
      "MSE ->  2.0190156520489406\n",
      "RMSE ->  1.4209207057569893\n",
      "MAE ->  12.210226999314612\n"
     ]
    }
   ],
   "source": [
    "arr = ([100,90,75,30])\n",
    "beta_1 = 0.294\n",
    "beta_2 = 0.28\n",
    "activation='tanh'\n",
    "batch_size = 128\n",
    "max_iter = 600\n",
    "alpha = 0.5\n",
    "\n",
    "model = MLPRegressor(hidden_layer_sizes=arr,activation=activation,batch_size=batch_size,max_iter=max_iter,solver='adam',\n",
    "                         beta_1=beta_1,beta_2=beta_2,shuffle=True,random_state=22,alpha=alpha)\n",
    "\n",
    "\n",
    "model.fit(X_train_sca,y_train)\n",
    "\n",
    "print(\"4 Layer Model\")\n",
    "\n",
    "print(\"---------------------------------------------\")\n",
    "print(\"Training Score\")\n",
    "print(\"R2 -> \",r2(y_train,model.predict(X_train_sca)))\n",
    "print(\"MSE -> \",mse(y_train,model.predict(X_train_sca)))\n",
    "print(\"RMSE -> \",rmse(y_train,model.predict(X_train_sca)))\n",
    "print(\"MAE -> \",mae(y_train,model.predict(X_train_sca)))\n",
    "\n",
    "\n",
    "print(\"---------------------------------------------\")\n",
    "print(\"Validation Score\")\n",
    "print(\"R2 -> \",r2(y_val,model.predict(X_val_sca)))\n",
    "print(\"MSE -> \",mse(y_val,model.predict(X_val_sca)))\n",
    "print(\"RMSE -> \",rmse(y_val,model.predict(X_val_sca)))\n",
    "print(\"MAE -> \",mae(y_val,model.predict(X_val_sca)))\n",
    "\n",
    "\n",
    "print(\"---------------------------------------------\")\n",
    "print(\"Test Score\")\n",
    "print(\"R2 -> \",r2(y_test,model.predict(X_test_sca)))\n",
    "print(\"MSE -> \",mse(y_test,model.predict(X_test_sca)))\n",
    "print(\"RMSE -> \",rmse(y_test,model.predict(X_test_sca)))\n",
    "print(\"MAE -> \",mae(y_test,model.predict(X_test_sca)))\n"
   ]
  },
  {
   "cell_type": "code",
   "execution_count": 24,
   "id": "7f16f68d-0af3-4787-b70b-9b789c21f015",
   "metadata": {},
   "outputs": [
    {
     "data": {
      "text/plain": [
       "array([0.  , 0.05, 0.1 , 0.15, 0.2 , 0.25, 0.3 , 0.35, 0.4 , 0.45, 0.5 ,\n",
       "       0.55, 0.6 , 0.65, 0.7 , 0.75, 0.8 , 0.85, 0.9 , 0.95, 1.  ])"
      ]
     },
     "execution_count": 24,
     "metadata": {},
     "output_type": "execute_result"
    }
   ],
   "source": [
    "np.arange(0,1.01,0.05)"
   ]
  },
  {
   "cell_type": "code",
   "execution_count": 25,
   "id": "8a6d7f81-ad7f-4d41-90f2-cf73fb0db3d1",
   "metadata": {},
   "outputs": [],
   "source": [
    "train = np.zeros(21)\n",
    "val = np.zeros(21)\n",
    "test = np.zeros(21)\n",
    "x_axis = np.arange(0,1.01,0.05)\n",
    "j=0\n",
    "a=0\n",
    "for i in range(0,21):\n",
    "    arr = ([100,90,75,30])\n",
    "    beta_1 = 0.294\n",
    "    beta_2 = 0.28\n",
    "    activation='tanh'\n",
    "    batch_size = 128\n",
    "    max_iter = 600\n",
    "    alpha = a\n",
    "    model = MLPRegressor(hidden_layer_sizes=arr,activation=activation,batch_size=batch_size,max_iter=max_iter,solver='adam',\n",
    "                         beta_1=beta_1,beta_2=beta_2,shuffle=True,random_state=22,alpha=alpha)\n",
    "    model.fit(X_train_sca,y_train)\n",
    "    train[j] = r2(y_train,model.predict(X_train_sca))\n",
    "    val[j] = r2(y_val,model.predict(X_val_sca))\n",
    "    test[j] = r2(y_test,model.predict(X_test_sca))\n",
    "    j=j+1\n",
    "    a=a+0.05\n",
    "\n",
    "\n"
   ]
  },
  {
   "cell_type": "code",
   "execution_count": 26,
   "id": "529fa3bc-6f72-4f1a-9212-2db3ede9cc0c",
   "metadata": {},
   "outputs": [
    {
     "data": {
      "image/png": "[encoded data removed]",
      "text/plain": [
       "<Figure size 1080x576 with 1 Axes>"
      ]
     },
     "metadata": {
      "needs_background": "light"
     },
     "output_type": "display_data"
    }
   ],
   "source": [
    "plt.figure(figsize=(15,8))\n",
    "plt.title(\"n_estimators\")\n",
    "plt.plot(x_axis,train,label = \"Train\")\n",
    "plt.plot(x_axis,val,label = \"Validation\")\n",
    "plt.plot(x_axis,test,label = \"Test\")\n",
    "plt.legend()\n",
    "plt.show()"
   ]
  },
  {
   "cell_type": "code",
   "execution_count": 28,
   "id": "eea415d2-4347-47b1-b65e-971ae82fc05d",
   "metadata": {},
   "outputs": [
    {
     "name": "stdout",
     "output_type": "stream",
     "text": [
      "4 Layer Model\n",
      "---------------------------------------------\n",
      "Training Score\n",
      "R2 ->  0.8334923285195583\n",
      "MSE ->  1.8592709638738807\n",
      "RMSE ->  1.3635508658916544\n",
      "MAE ->  11.393395589262992\n",
      "---------------------------------------------\n",
      "Validation Score\n",
      "R2 ->  0.8097642344574747\n",
      "MSE ->  2.1853951191753023\n",
      "RMSE ->  1.4783081949225954\n",
      "MAE ->  12.13501890323854\n",
      "---------------------------------------------\n",
      "Test Score\n",
      "R2 ->  0.8046642170625475\n",
      "MSE ->  2.0190156520489406\n",
      "RMSE ->  1.4209207057569893\n",
      "MAE ->  12.210226999314612\n"
     ]
    }
   ],
   "source": [
    "model = MLPRegressor(hidden_layer_sizes=arr,activation=activation,batch_size=batch_size,max_iter=max_iter,solver='adam',\n",
    "                         beta_1=beta_1,beta_2=beta_2,shuffle=True,random_state=22,alpha=0.5)\n",
    "model.fit(X_train_sca,y_train)\n",
    "\n",
    "print(\"4 Layer Model\")\n",
    "\n",
    "print(\"---------------------------------------------\")\n",
    "print(\"Training Score\")\n",
    "print(\"R2 -> \",r2(y_train,model.predict(X_train_sca)))\n",
    "print(\"MSE -> \",mse(y_train,model.predict(X_train_sca)))\n",
    "print(\"RMSE -> \",rmse(y_train,model.predict(X_train_sca)))\n",
    "print(\"MAE -> \",mae(y_train,model.predict(X_train_sca)))\n",
    "\n",
    "\n",
    "print(\"---------------------------------------------\")\n",
    "print(\"Validation Score\")\n",
    "print(\"R2 -> \",r2(y_val,model.predict(X_val_sca)))\n",
    "print(\"MSE -> \",mse(y_val,model.predict(X_val_sca)))\n",
    "print(\"RMSE -> \",rmse(y_val,model.predict(X_val_sca)))\n",
    "print(\"MAE -> \",mae(y_val,model.predict(X_val_sca)))\n",
    "\n",
    "\n",
    "print(\"---------------------------------------------\")\n",
    "print(\"Test Score\")\n",
    "print(\"R2 -> \",r2(y_test,model.predict(X_test_sca)))\n",
    "print(\"MSE -> \",mse(y_test,model.predict(X_test_sca)))\n",
    "print(\"RMSE -> \",rmse(y_test,model.predict(X_test_sca)))\n",
    "print(\"MAE -> \",mae(y_test,model.predict(X_test_sca)))"
   ]
  }
 ],
 "metadata": {
  "kernelspec": {
   "display_name": "Python 3 (ipykernel)",
   "language": "python",
   "name": "python3"
  },
  "language_info": {
   "codemirror_mode": {
    "name": "ipython",
    "version": 3
   },
   "file_extension": ".py",
   "mimetype": "text/x-python",
   "name": "python",
   "nbconvert_exporter": "python",
   "pygments_lexer": "ipython3",
   "version": "3.9.7"
  }
 },
 "nbformat": 4,
 "nbformat_minor": 5
}
